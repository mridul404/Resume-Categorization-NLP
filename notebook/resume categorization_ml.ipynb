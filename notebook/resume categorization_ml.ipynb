{
 "cells": [
  {
   "cell_type": "code",
   "execution_count": 23,
   "id": "f8228b41-5745-4ae3-a4a5-2fb7f3eb8531",
   "metadata": {},
   "outputs": [],
   "source": [
    "import pandas as pd\n",
    "import numpy as np\n",
    "import matplotlib.pyplot as plt\n",
    "import seaborn as sns\n",
    "import os\n",
    "import re\n",
    "from nltk.corpus import stopwords"
   ]
  },
  {
   "cell_type": "markdown",
   "id": "99d4703b-1460-40e8-845d-661c15b0297d",
   "metadata": {},
   "source": [
    "#### EDA and Preprocessing"
   ]
  },
  {
   "cell_type": "code",
   "execution_count": 7,
   "id": "e56cf964-0ccb-48d5-9d27-124e6f166587",
   "metadata": {},
   "outputs": [
    {
     "data": {
      "text/html": [
       "<div>\n",
       "<style scoped>\n",
       "    .dataframe tbody tr th:only-of-type {\n",
       "        vertical-align: middle;\n",
       "    }\n",
       "\n",
       "    .dataframe tbody tr th {\n",
       "        vertical-align: top;\n",
       "    }\n",
       "\n",
       "    .dataframe thead th {\n",
       "        text-align: right;\n",
       "    }\n",
       "</style>\n",
       "<table border=\"1\" class=\"dataframe\">\n",
       "  <thead>\n",
       "    <tr style=\"text-align: right;\">\n",
       "      <th></th>\n",
       "      <th>ID</th>\n",
       "      <th>Resume_str</th>\n",
       "      <th>Resume_html</th>\n",
       "      <th>Category</th>\n",
       "    </tr>\n",
       "  </thead>\n",
       "  <tbody>\n",
       "    <tr>\n",
       "      <th>2454</th>\n",
       "      <td>22442947</td>\n",
       "      <td>PASSENGER SERVICE CONCOURSE MANAGER  ...</td>\n",
       "      <td>&lt;div class=\"fontsize fontface vmargins hmargin...</td>\n",
       "      <td>AVIATION</td>\n",
       "    </tr>\n",
       "    <tr>\n",
       "      <th>2464</th>\n",
       "      <td>77626587</td>\n",
       "      <td>FLIGHT MANAGER       Summary    I am ...</td>\n",
       "      <td>&lt;div class=\"fontsize fontface vmargins hmargin...</td>\n",
       "      <td>AVIATION</td>\n",
       "    </tr>\n",
       "    <tr>\n",
       "      <th>2065</th>\n",
       "      <td>27257013</td>\n",
       "      <td>PUBLIC RELATIONS &amp; COMMUNICATIONS M...</td>\n",
       "      <td>&lt;div class=\"MPR skn-cbg1 fontsize fontface vma...</td>\n",
       "      <td>PUBLIC-RELATIONS</td>\n",
       "    </tr>\n",
       "    <tr>\n",
       "      <th>754</th>\n",
       "      <td>16702198</td>\n",
       "      <td>KEY ACCOUNT MANAGER         Summary  ...</td>\n",
       "      <td>&lt;div class=\"fontsize fontface vmargins hmargin...</td>\n",
       "      <td>HEALTHCARE</td>\n",
       "    </tr>\n",
       "    <tr>\n",
       "      <th>1901</th>\n",
       "      <td>25867805</td>\n",
       "      <td>SENIOR ACCOUNTANT           Summary  ...</td>\n",
       "      <td>&lt;div class=\"fontsize fontface vmargins hmargin...</td>\n",
       "      <td>ACCOUNTANT</td>\n",
       "    </tr>\n",
       "  </tbody>\n",
       "</table>\n",
       "</div>"
      ],
      "text/plain": [
       "            ID                                         Resume_str  \\\n",
       "2454  22442947           PASSENGER SERVICE CONCOURSE MANAGER  ...   \n",
       "2464  77626587           FLIGHT MANAGER       Summary    I am ...   \n",
       "2065  27257013             PUBLIC RELATIONS & COMMUNICATIONS M...   \n",
       "754   16702198           KEY ACCOUNT MANAGER         Summary  ...   \n",
       "1901  25867805           SENIOR ACCOUNTANT           Summary  ...   \n",
       "\n",
       "                                            Resume_html          Category  \n",
       "2454  <div class=\"fontsize fontface vmargins hmargin...          AVIATION  \n",
       "2464  <div class=\"fontsize fontface vmargins hmargin...          AVIATION  \n",
       "2065  <div class=\"MPR skn-cbg1 fontsize fontface vma...  PUBLIC-RELATIONS  \n",
       "754   <div class=\"fontsize fontface vmargins hmargin...        HEALTHCARE  \n",
       "1901  <div class=\"fontsize fontface vmargins hmargin...        ACCOUNTANT  "
      ]
     },
     "execution_count": 7,
     "metadata": {},
     "output_type": "execute_result"
    }
   ],
   "source": [
    "df = pd.read_csv('Resume.csv')\n",
    "df.sample(5)"
   ]
  },
  {
   "cell_type": "code",
   "execution_count": 11,
   "id": "899e8afa-b3b3-41c6-9da2-483158ad0a34",
   "metadata": {},
   "outputs": [
    {
     "data": {
      "text/plain": [
       "(2484, 4)"
      ]
     },
     "execution_count": 11,
     "metadata": {},
     "output_type": "execute_result"
    }
   ],
   "source": [
    "df.shape"
   ]
  },
  {
   "cell_type": "code",
   "execution_count": 37,
   "id": "fdd376aa-4475-427f-90c0-d1c423736658",
   "metadata": {},
   "outputs": [
    {
     "data": {
      "text/plain": [
       "24"
      ]
     },
     "execution_count": 37,
     "metadata": {},
     "output_type": "execute_result"
    }
   ],
   "source": [
    "df[\"Category\"].nunique()"
   ]
  },
  {
   "cell_type": "code",
   "execution_count": 12,
   "id": "b587cd60-290e-4725-add1-94b51bccb184",
   "metadata": {},
   "outputs": [
    {
     "data": {
      "text/plain": [
       "Category\n",
       "INFORMATION-TECHNOLOGY    120\n",
       "BUSINESS-DEVELOPMENT      120\n",
       "FINANCE                   118\n",
       "ADVOCATE                  118\n",
       "ACCOUNTANT                118\n",
       "ENGINEERING               118\n",
       "CHEF                      118\n",
       "AVIATION                  117\n",
       "FITNESS                   117\n",
       "SALES                     116\n",
       "BANKING                   115\n",
       "HEALTHCARE                115\n",
       "CONSULTANT                115\n",
       "CONSTRUCTION              112\n",
       "PUBLIC-RELATIONS          111\n",
       "HR                        110\n",
       "DESIGNER                  107\n",
       "ARTS                      103\n",
       "TEACHER                   102\n",
       "APPAREL                    97\n",
       "DIGITAL-MEDIA              96\n",
       "AGRICULTURE                63\n",
       "AUTOMOBILE                 36\n",
       "BPO                        22\n",
       "Name: count, dtype: int64"
      ]
     },
     "execution_count": 12,
     "metadata": {},
     "output_type": "execute_result"
    }
   ],
   "source": [
    "df[\"Category\"].value_counts()"
   ]
  },
  {
   "cell_type": "code",
   "execution_count": 19,
   "id": "e0d71cc9-3f19-476e-bc03-7f627a5d6d41",
   "metadata": {
    "scrolled": true
   },
   "outputs": [
    {
     "data": {
      "text/plain": [
       "\"         HR ADMINISTRATOR/MARKETING ASSOCIATE\\n\\nHR ADMINISTRATOR       Summary     Dedicated Customer Service Manager with 15+ years of experience in Hospitality and Customer Service Management.   Respected builder and leader of customer-focused teams; strives to instill a shared, enthusiastic commitment to customer service.         Highlights         Focused on customer satisfaction  Team management  Marketing savvy  Conflict resolution techniques     Training and development  Skilled multi-tasker  Client relations specialist           Accomplishments      Missouri DOT Supervisor Training Certification  Certified by IHG in Customer Loyalty and Marketing by Segment   Hilton Worldwide General Manager Training Certification  Accomplished Trainer for cross server hospitality systems such as    Hilton OnQ  ,   Micros    Opera PMS   , Fidelio    OPERA    Reservation System (ORS) ,   Holidex    Completed courses and seminars in customer service, sales strategies, inventory control, loss prevention, safety, time management, leadership and performance assessment.        Experience      HR Administrator/Marketing Associate\\n\\nHR Administrator     Dec 2013   to   Current      Company Name   －   City  ,   State     Helps to develop policies, directs and coordinates activities such as employment, compensation, labor relations, benefits, training, and employee services.  Prepares employee separation notices and related documentation  Keeps records of benefits plans participation such as insurance and pension plan, personnel transactions such as hires, promotions, transfers, performance reviews, and terminations, and employee statistics for government reporting.  Advises management in appropriate resolution of employee relations issues.  Administers benefits programs such as life, health, dental, insurance, pension plans, vacation, sick leave, leave of absence, and employee assistance.     Marketing Associate \\xa0   Designed and created marketing collateral for sales meetings, trade shows and company executives.  Managed the in-house advertising program consisting of print and media collateral pieces.  Assisted in the complete design and launch of the company's website in 2 months.  Created an official company page on Facebook to facilitate interaction with customers.  Analyzed ratings and programming features of competitors to evaluate the effectiveness of marketing strategies.         Advanced Medical Claims Analyst     Mar 2012   to   Dec 2013      Company Name   －   City  ,   State     Reviewed medical bills for the accuracy of the treatments, tests, and hospital stays prior to sanctioning the claims.  Trained to interpret the codes (ICD-9, CPT) and terminology commonly used in medical billing to fully understand the paperwork that is submitted by healthcare providers.  Required to have organizational and analytical skills as well as computer skills, knowledge of medical terminology and procedures, statistics, billing standards, data analysis and laws regarding medical billing.         Assistant General Manager     Jun 2010   to   Dec 2010      Company Name   －   City  ,   State     Performed duties including but not limited to, budgeting and financial management, accounting, human resources, payroll and purchasing.  Established and maintained close working relationships with all departments of the hotel to ensure maximum operation, productivity, morale and guest service.  Handled daily operations and reported directly to the corporate office.  Hired and trained staff on overall objectives and goals with an emphasis on high customer service.  Marketing and Advertising, working on public relations with the media, government and local businesses and Chamber of Commerce.         Executive Support / Marketing Assistant     Jul 2007   to   Jun 2010      Company Name   －   City  ,   State     Provided assistance to various department heads - Executive, Marketing, Customer Service, Human Resources.  Managed front-end operations to ensure friendly and efficient transactions.  Ensured the swift resolution of customer issues to preserve customer loyalty while complying with company policies.  Exemplified the second-to-none customer service delivery in all interactions with customers and potential clients.         Reservation & Front Office Manager     Jun 2004   to   Jul 2007      Company Name   －   City  ,   State          Owner/ Partner     Dec 2001   to   May 2004      Company Name   －   City  ,   State          Price Integrity Coordinator     Aug 1999   to   Dec 2001      Company Name   －   City  ,   State          Education      N/A  ,   Business Administration   1999     Jefferson College   －   City  ,   State       Business Administration  Marketing / Advertising         High School Diploma  ,   College Prep. studies   1998     Sainte Genevieve Senior High   －   City  ,   State       Awarded American Shrubel Leadership Scholarship to Jefferson College         Skills     Accounting, ads, advertising, analytical skills, benefits, billing, budgeting, clients, Customer Service, data analysis, delivery, documentation, employee relations, financial management, government relations, Human Resources, insurance, labor relations, layout, Marketing, marketing collateral, medical billing, medical terminology, office, organizational, payroll, performance reviews, personnel, policies, posters, presentations, public relations, purchasing, reporting, statistics, website.    \""
      ]
     },
     "execution_count": 19,
     "metadata": {},
     "output_type": "execute_result"
    }
   ],
   "source": [
    "df['Resume_str'][0]"
   ]
  },
  {
   "cell_type": "code",
   "execution_count": 21,
   "id": "450bd661-3b32-4cd4-bef6-baa17536c077",
   "metadata": {},
   "outputs": [],
   "source": [
    "def clean_text(text):\n",
    "    \n",
    "    url_pattern = re.compile(r'https?://\\S+|www\\.\\S+')\n",
    "    email_pattern = re.compile(r'\\b[A-Za-z0-9._%+-]+@[A-Za-z0-9.-]+\\.[A-Z|a-z]{2,}\\b')\n",
    "    \n",
    "    # Remove urls\n",
    "    clean_text = url_pattern.sub('', text)\n",
    "    \n",
    "    # Remove emails\n",
    "    clean_text = email_pattern.sub('', clean_text)\n",
    "    \n",
    "    # Remove special characters\n",
    "    clean_text = re.sub(r'[^\\w\\s]', '', clean_text)\n",
    "    \n",
    "    # Remove stop words\n",
    "    stop_words = set(stopwords.words('english'))\n",
    "    clean_text = ' '.join(word for word in clean_text.split() if word.lower() not in stop_words)\n",
    "    \n",
    "    return clean_text"
   ]
  },
  {
   "cell_type": "code",
   "execution_count": 25,
   "id": "f7651d0e-520a-4bbd-a563-00a4fd14c785",
   "metadata": {
    "scrolled": true
   },
   "outputs": [
    {
     "data": {
      "text/plain": [
       "'HR ADMINISTRATORMARKETING ASSOCIATE HR ADMINISTRATOR Summary Dedicated Customer Service Manager 15 years experience Hospitality Customer Service Management Respected builder leader customerfocused teams strives instill shared enthusiastic commitment customer service Highlights Focused customer satisfaction Team management Marketing savvy Conflict resolution techniques Training development Skilled multitasker Client relations specialist Accomplishments Missouri DOT Supervisor Training Certification Certified IHG Customer Loyalty Marketing Segment Hilton Worldwide General Manager Training Certification Accomplished Trainer cross server hospitality systems Hilton OnQ Micros Opera PMS Fidelio OPERA Reservation System ORS Holidex Completed courses seminars customer service sales strategies inventory control loss prevention safety time management leadership performance assessment Experience HR AdministratorMarketing Associate HR Administrator Dec 2013 Current Company Name City State Helps develop policies directs coordinates activities employment compensation labor relations benefits training employee services Prepares employee separation notices related documentation Keeps records benefits plans participation insurance pension plan personnel transactions hires promotions transfers performance reviews terminations employee statistics government reporting Advises management appropriate resolution employee relations issues Administers benefits programs life health dental insurance pension plans vacation sick leave leave absence employee assistance Marketing Associate Designed created marketing collateral sales meetings trade shows company executives Managed inhouse advertising program consisting print media collateral pieces Assisted complete design launch companys website 2 months Created official company page Facebook facilitate interaction customers Analyzed ratings programming features competitors evaluate effectiveness marketing strategies Advanced Medical Claims Analyst Mar 2012 Dec 2013 Company Name City State Reviewed medical bills accuracy treatments tests hospital stays prior sanctioning claims Trained interpret codes ICD9 CPT terminology commonly used medical billing fully understand paperwork submitted healthcare providers Required organizational analytical skills well computer skills knowledge medical terminology procedures statistics billing standards data analysis laws regarding medical billing Assistant General Manager Jun 2010 Dec 2010 Company Name City State Performed duties including limited budgeting financial management accounting human resources payroll purchasing Established maintained close working relationships departments hotel ensure maximum operation productivity morale guest service Handled daily operations reported directly corporate office Hired trained staff overall objectives goals emphasis high customer service Marketing Advertising working public relations media government local businesses Chamber Commerce Executive Support Marketing Assistant Jul 2007 Jun 2010 Company Name City State Provided assistance various department heads Executive Marketing Customer Service Human Resources Managed frontend operations ensure friendly efficient transactions Ensured swift resolution customer issues preserve customer loyalty complying company policies Exemplified secondtonone customer service delivery interactions customers potential clients Reservation Front Office Manager Jun 2004 Jul 2007 Company Name City State Owner Partner Dec 2001 May 2004 Company Name City State Price Integrity Coordinator Aug 1999 Dec 2001 Company Name City State Education NA Business Administration 1999 Jefferson College City State Business Administration Marketing Advertising High School Diploma College Prep studies 1998 Sainte Genevieve Senior High City State Awarded American Shrubel Leadership Scholarship Jefferson College Skills Accounting ads advertising analytical skills benefits billing budgeting clients Customer Service data analysis delivery documentation employee relations financial management government relations Human Resources insurance labor relations layout Marketing marketing collateral medical billing medical terminology office organizational payroll performance reviews personnel policies posters presentations public relations purchasing reporting statistics website'"
      ]
     },
     "execution_count": 25,
     "metadata": {},
     "output_type": "execute_result"
    }
   ],
   "source": [
    "clean_text(df['Resume_str'][0])"
   ]
  },
  {
   "cell_type": "code",
   "execution_count": 26,
   "id": "ea93ccf1-b224-4d48-9f07-e9b346f41a0d",
   "metadata": {},
   "outputs": [],
   "source": [
    "df[\"Resume_str\"] = df[\"Resume_str\"].apply(lambda x: clean_text(x))"
   ]
  },
  {
   "cell_type": "code",
   "execution_count": 30,
   "id": "75739146-2504-4246-a187-2378cc330d7b",
   "metadata": {
    "scrolled": true
   },
   "outputs": [
    {
     "data": {
      "text/plain": [
       "'SALES Summary 17 years sales operations management experience specialty bigbox retail 4 years sales experience automotive sector Experienced hiring training supervision coaching Proven skills operations human resource management planning negotiating organizing overseeing projects events Committed highest work ethic attainment organizational goals objectives Highlights Excellent interpersonal coaching skills Sales leadership development Performance metrics Detailoriented Procedure development Employee engagement Conflict resolution Onboarding training Recruiting Performance coaching counseling Operations management Human resources management PL management Powerful negotiator Accomplishments Drove store ranking 297 company top 10 less 6 months taking store Increased yearoveryear sales 60 Oversaw multiple stores Southeast worked directly local management drive sales operational success Initiated sales merchandising policies adopted companywide Recipient Best Buys Top Gun Award multiple times sales productivity Experience Sales 072015 Current Company Name City State Identified prospective customers using lead generating methods performing average 30 cold calls per day Participated various incentive programs contests designed support achievement production goals Developed tool track monitor personal sales opportunities deals progress finished contracts Responsible implementing businessbuilding relationshipbuilding expectations uniquely assigned accounts customers Took daily inbound calls internet inquiries faxes consumer business credit applications assigned accounts clients Consistently met exceeded department expectations productivity accuracy levels Sales 082012 072015 Company Name City State Implemented consultative selling approach clients Contacted new existing customers discuss needs could met specific products services Quoted prices credit terms bid specifications Negotiated prices terms sales service agreements Completed 3060 outbound calls daily average conversion rate 50 Responded customer inquiries timely manner Maintained exceptionally high CSI scores offering highest quality customer service possible Maintained customer relationships sale generate referrals repeat business Took role FI manager four month period maintained highly accurate paperwork average 1100 backend per deal Helped develop Internet Sales Team worked internet deals initial submittal sale delivery process Advanced user Xtreme Service Drive sales management software generating pipeline account reports weekly Store Manager 082011 082012 Company Name City State Directed supervised employees engaged sales inventorytaking reconciling cash receipts Determined staff promotions demotions terminated employees necessary Completed weekly schedules according payroll policies Maintained daily record transactions Addressed corrected sales staff communication issues tactful effective manner Opened new store location assisted recruiting training new staff Market Area ManagerStore Manager 032008 082010 Company Name City State Oversaw general operations 5 stores Southeast Developed shared best practices across company Oversaw development launch multiple product lines Recruited hired trained new employees various stores store openings Revamped instore sales merchandising programs resulting 60 improvement sales Mentored coached trained 10 team members Identified inefficiencies made recommendations process improvements Conducted new employee orientation foster positive attitude toward organizational objectives Identified staff vacancies recruited interviewed selected applicants Designed floor plan make store experience interactive engaging Trained new managers store procedures policies Worked closely district manager formulate build store brand Evaluated returnoninvestment profitloss projections Store Manager 062006 032008 Company Name City State Directed supervised employees engaged sales inventorytaking reconciling cash receipts Reorganized sales floor meet company demands Stocked restocked inventory shipments received Addressed customer inquiries resolved complaints Completed series training sessions advance Assistant Manager Store Manager Trained staff deliver outstanding customer service Completed weekly schedules according payroll policies Delivered excellent customer service greeting assisting customer Department Manager 041997 032004 Company Name City State Addressed corrected sales staff communication issues tactful effective manner Trained staff deliver outstanding customer service Wrote order supply requests replenish merchandise Completed weekly schedules according payroll policies Directed supervised employees engaged sales inventorytaking reconciling cash receipts Reorganized sales floor meet company demands Stocked restocked inventory shipments received Delivered excellent customer service greeting assisting customer Served mentor junior team members Led trainings 20 employees weekly basis Planned led training programs staff development Offered specific training programs help workers improve sales merchandising inventory control Managed new product content releases Department Manager 011993 011997 Company Name City State Trained staff deliver outstanding customer service Reorganized sales floor meet company demands Stocked restocked inventory shipments received Addressed customer inquiries resolved complaints Delivered excellent customer service greeting assisting customer Education Bachelor Arts Religion Psychology 2006 Charleston Southern University City State Skills Customer Service DirecttoVendor BuyingOrdering Internet Sales Inventory Control Loss Prevention Merchandising Multiunit Management NegotiatingClosing Onboarding Payroll PL Management Planning Receiving Recruiting Sales Coaching Training Sales Management Store Relocation Remodeling Team Leadership Mentoring Vendor Relations'"
      ]
     },
     "execution_count": 30,
     "metadata": {},
     "output_type": "execute_result"
    }
   ],
   "source": [
    "df[\"Resume_str\"][1000]"
   ]
  },
  {
   "cell_type": "markdown",
   "id": "631c266b-d5a8-413f-bb8d-904df5dcf568",
   "metadata": {},
   "source": [
    "## Preprocessing"
   ]
  },
  {
   "cell_type": "code",
   "execution_count": 52,
   "id": "2aec4044-6f67-4ec5-9c1e-e98c528d7e46",
   "metadata": {},
   "outputs": [],
   "source": [
    "from sklearn.preprocessing import LabelEncoder\n",
    "from sklearn.model_selection import train_test_split\n",
    "from sklearn.feature_extraction.text import TfidfVectorizer\n",
    "from sklearn.neighbors import KNeighborsClassifier\n",
    "from sklearn.metrics import accuracy_score\n",
    "from sklearn.model_selection import cross_val_score"
   ]
  },
  {
   "cell_type": "code",
   "execution_count": 32,
   "id": "9d52353a-2d5f-4bff-b347-d294fb4d7eca",
   "metadata": {},
   "outputs": [],
   "source": [
    "# Lebel Encoding the category\n",
    "le = LabelEncoder()\n",
    "\n",
    "df[\"Category\"] = le.fit_transform(df[\"Category\"])"
   ]
  },
  {
   "cell_type": "code",
   "execution_count": 36,
   "id": "2c84f726-0982-44ca-a74a-bb00dca0e49f",
   "metadata": {},
   "outputs": [
    {
     "data": {
      "text/plain": [
       "array([19, 13, 20, 23,  1,  9, 18, 17,  2,  8, 22, 12, 14,  5, 10, 16,  3,\n",
       "       15,  0, 11, 21,  7,  4,  6])"
      ]
     },
     "execution_count": 36,
     "metadata": {},
     "output_type": "execute_result"
    }
   ],
   "source": [
    "df[\"Category\"].unique()"
   ]
  },
  {
   "cell_type": "code",
   "execution_count": 35,
   "id": "7c3e359d-2e4d-441f-b0eb-fa1825fab147",
   "metadata": {},
   "outputs": [
    {
     "data": {
      "text/plain": [
       "24"
      ]
     },
     "execution_count": 35,
     "metadata": {},
     "output_type": "execute_result"
    }
   ],
   "source": [
    "df[\"Category\"].nunique()"
   ]
  },
  {
   "cell_type": "markdown",
   "id": "0c16435f-7720-4a52-a728-e6d6d7a0a36e",
   "metadata": {},
   "source": [
    "## TF-IDF Vectorization"
   ]
  },
  {
   "cell_type": "code",
   "execution_count": 39,
   "id": "023f4389-3658-4a50-8f40-00fd0e66af4f",
   "metadata": {},
   "outputs": [],
   "source": [
    "tfidf = TfidfVectorizer()\n",
    "\n",
    "resume = tfidf.fit_transform(df[\"Resume_str\"])"
   ]
  },
  {
   "cell_type": "markdown",
   "id": "0be38966-d220-4bb7-a612-5122bbb06be5",
   "metadata": {},
   "source": [
    "## Train-Test-Validation Split"
   ]
  },
  {
   "cell_type": "code",
   "execution_count": 48,
   "id": "89d2bf7f-93a8-44ba-acdf-dae9a5fe59cc",
   "metadata": {},
   "outputs": [],
   "source": [
    "X_train, X_test, y_train, y_test = train_test_split(resume, df[\"Category\"], test_size=0.2, random_state=2024)"
   ]
  },
  {
   "cell_type": "code",
   "execution_count": 49,
   "id": "6845eec9-3a3a-4880-9cfd-33b684a26cdd",
   "metadata": {},
   "outputs": [
    {
     "data": {
      "text/plain": [
       "((1987, 53980), (1987,))"
      ]
     },
     "execution_count": 49,
     "metadata": {},
     "output_type": "execute_result"
    }
   ],
   "source": [
    "X_train.shape, y_train.shape"
   ]
  },
  {
   "cell_type": "code",
   "execution_count": 62,
   "id": "63261cc9-baac-4619-9e40-4e7a9f4db21e",
   "metadata": {},
   "outputs": [],
   "source": [
    "from sklearn.decomposition import TruncatedSVD\n",
    "\n",
    "svd = TruncatedSVD(n_components=1000)\n",
    "X_train_svd = svd.fit_transform(X_train)\n",
    "X_test_svd = svd.transform(X_test)"
   ]
  },
  {
   "cell_type": "code",
   "execution_count": 50,
   "id": "ee26d473-2389-42f3-91b0-4278be1f99e6",
   "metadata": {},
   "outputs": [],
   "source": [
    "knn = KNeighborsClassifier()"
   ]
  },
  {
   "cell_type": "code",
   "execution_count": 63,
   "id": "91bc5645-56fb-4c0e-a59c-390643b04f9c",
   "metadata": {},
   "outputs": [],
   "source": [
    "cv_scores = cross_val_score(knn, X_train_svd, y_train, cv=5, scoring='accuracy')"
   ]
  },
  {
   "cell_type": "code",
   "execution_count": 64,
   "id": "920735a9-5ec6-401b-a98c-ce8707da765b",
   "metadata": {},
   "outputs": [
    {
     "name": "stdout",
     "output_type": "stream",
     "text": [
      "Cross-Validation Scores: [0.49748744 0.51256281 0.53148615 0.4836272  0.56423174]\n",
      "Mean Cross-Validation Accuracy: 0.52\n",
      "Standard Deviation of Accuracy: 0.03\n"
     ]
    }
   ],
   "source": [
    "print(f'Cross-Validation Scores: {cv_scores}')\n",
    "print(f'Mean Cross-Validation Accuracy: {cv_scores.mean():.2f}')\n",
    "print(f'Standard Deviation of Accuracy: {cv_scores.std():.2f}')"
   ]
  },
  {
   "cell_type": "code",
   "execution_count": 57,
   "id": "0a4678b8-eebc-4a88-aab8-21a00bd10262",
   "metadata": {},
   "outputs": [
    {
     "name": "stdout",
     "output_type": "stream",
     "text": [
      "Accuracy of the KNN classifier on test set: 0.54\n"
     ]
    }
   ],
   "source": [
    "knn.fit(X_train, y_train)\n",
    "y_pred = knn.predict(X_test)\n",
    "accuracy = accuracy_score(y_test, y_pred)\n",
    "print(f'Accuracy of the KNN classifier on test set: {accuracy:.2f}')"
   ]
  },
  {
   "cell_type": "code",
   "execution_count": 58,
   "id": "1ebd3d49-b2a1-45fc-8ea4-a7770ef2d904",
   "metadata": {},
   "outputs": [
    {
     "name": "stdout",
     "output_type": "stream",
     "text": [
      "Accuracy of KNeighborsClassifier on test set: 0.54\n",
      "Accuracy of LogisticRegression on test set: 0.63\n",
      "Accuracy of RandomForestClassifier on test set: 0.60\n",
      "Accuracy of SVC on test set: 0.60\n",
      "Accuracy of MultinomialNB on test set: 0.52\n"
     ]
    }
   ],
   "source": [
    "from sklearn.linear_model import LogisticRegression\n",
    "from sklearn.ensemble import RandomForestClassifier\n",
    "from sklearn.svm import SVC\n",
    "from sklearn.naive_bayes import MultinomialNB\n",
    "from sklearn.metrics import accuracy_score\n",
    "\n",
    "# Define a dictionary to hold models\n",
    "models = {\n",
    "    'KNeighborsClassifier': KNeighborsClassifier(),\n",
    "    'LogisticRegression': LogisticRegression(),\n",
    "    'RandomForestClassifier': RandomForestClassifier(),\n",
    "    'SVC': SVC(),\n",
    "    'MultinomialNB': MultinomialNB()\n",
    "}\n",
    "\n",
    "# Dictionary to hold accuracy scores\n",
    "accuracy_scores = {}\n",
    "\n",
    "# Train and evaluate each model\n",
    "for model_name, model in models.items():\n",
    "    # Train the model\n",
    "    model.fit(X_train, y_train)\n",
    "    \n",
    "    # Predict on the test set\n",
    "    y_pred = model.predict(X_test)\n",
    "    \n",
    "    # Calculate accuracy\n",
    "    accuracy = accuracy_score(y_test, y_pred)\n",
    "    accuracy_scores[model_name] = accuracy\n",
    "    \n",
    "    # Print the accuracy\n",
    "    print(f'Accuracy of {model_name} on test set: {accuracy:.2f}')"
   ]
  },
  {
   "cell_type": "code",
   "execution_count": null,
   "id": "68d30e40-ca77-44a1-b8f0-8048ef4fa637",
   "metadata": {},
   "outputs": [],
   "source": []
  }
 ],
 "metadata": {
  "kernelspec": {
   "display_name": "Python 3 (ipykernel)",
   "language": "python",
   "name": "python3"
  },
  "language_info": {
   "codemirror_mode": {
    "name": "ipython",
    "version": 3
   },
   "file_extension": ".py",
   "mimetype": "text/x-python",
   "name": "python",
   "nbconvert_exporter": "python",
   "pygments_lexer": "ipython3",
   "version": "3.10.12"
  }
 },
 "nbformat": 4,
 "nbformat_minor": 5
}
